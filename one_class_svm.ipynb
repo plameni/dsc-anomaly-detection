{
 "cells": [
  {
   "cell_type": "markdown",
   "metadata": {},
   "source": [
    "# Dataset link: \n",
    "https://www.timeseriesclassification.com/description.php?Dataset=ECG5000 "
   ]
  },
  {
   "cell_type": "markdown",
   "metadata": {},
   "source": [
    "# Libraries version\n",
    "python            3.12.4\n",
    "\n",
    "pandas            2.2.3\n",
    "\n",
    "matplotlib        3.9.2\n",
    "\n",
    "numpy             2.1.3 \n",
    "\n",
    "scikit-learn      1.5.2\n",
    "\n",
    "scipy             1.14.1"
   ]
  },
  {
   "cell_type": "markdown",
   "metadata": {},
   "source": [
    "# Importing the libraries"
   ]
  },
  {
   "cell_type": "code",
   "execution_count": null,
   "metadata": {},
   "outputs": [],
   "source": [
    "import matplotlib.pyplot as plt \n",
    "import pandas as pd \n",
    "from scipy.io import arff\n",
    "from scipy.stats import iqr\n",
    "from scipy.signal import welch\n",
    "import numpy as np \n",
    "\n",
    "from sklearn.svm import OneClassSVM\n",
    "from sklearn.metrics import classification_report"
   ]
  },
  {
   "cell_type": "markdown",
   "metadata": {},
   "source": [
    "# Loading the dataset"
   ]
  },
  {
   "cell_type": "code",
   "execution_count": null,
   "metadata": {},
   "outputs": [],
   "source": [
    "train_data_path = 'ECG5000/ECG5000_TRAIN.arff'\n",
    "test_data_path = 'ECG5000/ECG5000_TEST.arff'\n",
    "\n",
    "train_data, _ = arff.loadarff(train_data_path)\n",
    "test_data, _ = arff.loadarff(test_data_path)\n",
    "\n",
    "train_df = pd.DataFrame(train_data)\n",
    "test_df = pd.DataFrame(test_data)\n",
    "\n",
    "if (train_df['target'].dtype == object):\n",
    "    train_df['target'] = train_df['target'].apply(lambda x: x.decode('UTF-8'))\n",
    "if (test_df['target'].dtype == object):\n",
    "    test_df['target'] = test_df['target'].apply(lambda x: x.decode('UTF-8'))\n"
   ]
  },
  {
   "cell_type": "markdown",
   "metadata": {},
   "source": [
    "# Plot single ECG"
   ]
  },
  {
   "cell_type": "code",
   "execution_count": null,
   "metadata": {},
   "outputs": [],
   "source": [
    "example_ecg = train_df.iloc[0, :-1]\n",
    "plt.figure(figsize=(12, 6))\n",
    "plt.plot(example_ecg.values, alpha=0.7)\n",
    "plt.title('One ECG')\n",
    "plt.xlabel('Time')\n",
    "plt.ylabel('Amplitude')\n",
    "plt.show()"
   ]
  },
  {
   "cell_type": "markdown",
   "metadata": {},
   "source": [
    "# Preprocessing the dataset\n",
    "Feature extraction function"
   ]
  },
  {
   "cell_type": "code",
   "execution_count": null,
   "metadata": {},
   "outputs": [],
   "source": [
    "def extract_features(signal):\n",
    "    features = {}\n",
    "    features['mean'] = np.mean(signal)\n",
    "    features['std'] = np.std(signal)\n",
    "    features['min'] = np.min(signal)\n",
    "    features['max'] = np.max(signal)\n",
    "    features['iqr'] = iqr(signal)\n",
    "    features['energy'] = np.sum(np.square(signal))\n",
    "    f, pxx = welch(signal)\n",
    "    features['dominant_freq'] = np.argmax(pxx)\n",
    "    return features"
   ]
  },
  {
   "cell_type": "markdown",
   "metadata": {},
   "source": [
    "# Extracting data\n",
    "Here, we are filtering all NORM values, because we want to train our model only on that data. \n",
    "For each row, we apply feature extractor created in the cell above. "
   ]
  },
  {
   "cell_type": "code",
   "execution_count": null,
   "metadata": {},
   "outputs": [],
   "source": [
    "normal_train_df = train_df[train_df['target'] == '1']\n",
    "test_lables = np.where(test_df['target'] == '1', 1, -1)\n",
    "\n",
    "X_train_features = normal_train_df.drop('target', axis=1).apply(lambda row: extract_features(row.values), axis=1)\n",
    "X_train_df = pd.DataFrame(X_train_features.tolist())\n",
    "\n",
    "X_test_features = test_df.drop('target', axis=1).apply(lambda row: extract_features(row.values), axis=1)\n",
    "X_test_df = pd.DataFrame(X_test_features.tolist())"
   ]
  },
  {
   "cell_type": "markdown",
   "metadata": {},
   "source": [
    "# Training the model\n",
    "\n",
    "We are using OneClassSVM, suitable for anomaly detection where features are numerical. "
   ]
  },
  {
   "cell_type": "code",
   "execution_count": null,
   "metadata": {},
   "outputs": [],
   "source": [
    "one_class_svm = OneClassSVM(gamma='auto', kernel='rbf', nu=0.1)\n",
    "one_class_svm.fit(X_train_df)"
   ]
  },
  {
   "cell_type": "markdown",
   "metadata": {},
   "source": [
    "# Predictions"
   ]
  },
  {
   "cell_type": "code",
   "execution_count": null,
   "metadata": {},
   "outputs": [],
   "source": [
    "y_pred = one_class_svm.predict(X_test_df)\n",
    "print('One SVM results')\n",
    "print(classification_report(test_lables, y_pred, target_names=['Anomaly', 'Normal']))"
   ]
  },
  {
   "cell_type": "markdown",
   "metadata": {},
   "source": [
    "# Plotting different ECGs\n",
    "Plotting examples of normal and anomalous ECGs. "
   ]
  },
  {
   "cell_type": "code",
   "execution_count": null,
   "metadata": {},
   "outputs": [],
   "source": [
    "normal_predictions = test_df.iloc[y_pred == 1]\n",
    "anomalous_predictions = test_df.iloc[y_pred == -1]\n",
    "\n",
    "plt.figure(figsize=(15, 6))\n",
    "plt.subplot(1, 2, 1)\n",
    "\n",
    "for i in range(5):\n",
    "    ecg = normal_predictions.iloc[i, :-1].values\n",
    "    plt.plot(ecg, alpha=0.7)\n",
    "\n",
    "plt.xlabel('Time')\n",
    "plt.ylabel('Amplitude')\n",
    "plt.title('Normal ECGs')\n",
    "\n",
    "plt.subplot(1, 2, 2)\n",
    "for i in range(5):\n",
    "    ecg = anomalous_predictions.iloc[i, :-1].values \n",
    "    plt.plot(ecg, alpha=0.7, color='red')\n",
    "\n",
    "plt.xlabel('Time')\n",
    "plt.ylabel('Amplitude')\n",
    "plt.title('Anomalous ECGs')\n",
    "\n",
    "plt.show()"
   ]
  }
 ],
 "metadata": {
  "kernelspec": {
   "display_name": "myenv",
   "language": "python",
   "name": "python3"
  },
  "language_info": {
   "codemirror_mode": {
    "name": "ipython",
    "version": 3
   },
   "file_extension": ".py",
   "mimetype": "text/x-python",
   "name": "python",
   "nbconvert_exporter": "python",
   "pygments_lexer": "ipython3",
   "version": "3.12.4"
  }
 },
 "nbformat": 4,
 "nbformat_minor": 2
}
